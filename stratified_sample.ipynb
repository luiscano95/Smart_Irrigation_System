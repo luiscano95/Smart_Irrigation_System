{
 "cells": [
  {
   "cell_type": "code",
   "execution_count": 0,
   "metadata": {
    "colab": {},
    "colab_type": "code",
    "id": "ZvoDLLDe1-Nw"
   },
   "outputs": [],
   "source": [
    "import os\n",
    "import pandas as pd\n",
    "import numpy as np\n",
    "from google.colab import drive"
   ]
  },
  {
   "cell_type": "code",
   "execution_count": 2,
   "metadata": {
    "colab": {
     "base_uri": "https://localhost:8080/",
     "height": 122
    },
    "colab_type": "code",
    "executionInfo": {
     "elapsed": 23737,
     "status": "ok",
     "timestamp": 1551722379645,
     "user": {
      "displayName": "Claudio Paul Ortega Ariza",
      "photoUrl": "",
      "userId": "09403825919811439227"
     },
     "user_tz": 300
    },
    "id": "def_hP0B2OXj",
    "outputId": "1e5f0552-d1be-4ea2-80cf-9286f103b457"
   },
   "outputs": [
    {
     "name": "stdout",
     "output_type": "stream",
     "text": [
      "Go to this URL in a browser: https://accounts.google.com/o/oauth2/auth?client_id=947318989803-6bn6qk8qdgf4n4g3pfee6491hc0brc4i.apps.googleusercontent.com&redirect_uri=urn%3Aietf%3Awg%3Aoauth%3A2.0%3Aoob&scope=email%20https%3A%2F%2Fwww.googleapis.com%2Fauth%2Fdocs.test%20https%3A%2F%2Fwww.googleapis.com%2Fauth%2Fdrive%20https%3A%2F%2Fwww.googleapis.com%2Fauth%2Fdrive.photos.readonly%20https%3A%2F%2Fwww.googleapis.com%2Fauth%2Fpeopleapi.readonly&response_type=code\n",
      "\n",
      "Enter your authorization code:\n",
      "··········\n",
      "Mounted at gdrive\n"
     ]
    }
   ],
   "source": [
    "# Mount drive\n",
    "drive.mount(\"gdrive\")"
   ]
  },
  {
   "cell_type": "code",
   "execution_count": 0,
   "metadata": {
    "colab": {},
    "colab_type": "code",
    "id": "OWBrm-OH2cgI"
   },
   "outputs": [],
   "source": [
    "# Change working dir\n",
    "os.chdir('gdrive/My Drive/Investigacion/Investigacion_ClaudioOrtega_JGLL/Articulo_Smart_Irrigation_System/VERSION_MIT_SCALE/Interpolation+FIS')"
   ]
  },
  {
   "cell_type": "code",
   "execution_count": 0,
   "metadata": {
    "colab": {},
    "colab_type": "code",
    "id": "XWjj-CEJ2fa3"
   },
   "outputs": [],
   "source": [
    "dataset = pd.read_csv('input/humidity.csv')"
   ]
  },
  {
   "cell_type": "code",
   "execution_count": 0,
   "metadata": {
    "colab": {},
    "colab_type": "code",
    "id": "ltXNsIHl5_KI"
   },
   "outputs": [],
   "source": [
    "day1 = dataset[['Monday']]"
   ]
  },
  {
   "cell_type": "code",
   "execution_count": 0,
   "metadata": {
    "colab": {},
    "colab_type": "code",
    "id": "txJ2970R6D-C"
   },
   "outputs": [],
   "source": [
    "def get_stratified_sample(df):\n",
    "  day = df.copy()\n",
    "\n",
    "  # grid data\n",
    "  Yi, Xi = np.mgrid[:7:8j, 0:7:8j] #Grid positions (x, y coordinates)\n",
    "  day.loc[:,'x'] = Xi.ravel()\n",
    "  day.loc[:,'y'] = Yi.ravel()\n",
    "\n",
    "  # bin continous variable\n",
    "  day['group'] = None\n",
    "  day.loc[day.iloc[:,0] > 70, 'group'] = 0\n",
    "  day.loc[(day.iloc[:,0] > 30)&(day.iloc[:,0] <= 70), 'group'] = 1\n",
    "  day.loc[day.iloc[:,0] <= 30, 'group'] = 2\n",
    "\n",
    "  # define n samples for each bin\n",
    "  sample_size = 18\n",
    "  n_size = ((day.groupby(['group'])['group'].count() / len(day))*sample_size).round().astype(int)\n",
    "\n",
    "  # sampled data\n",
    "  stratified_samples = [day[day['group'] == i].sample(n=n, random_state=1) for i, n in enumerate(n_size)]\n",
    "  stratified_sample = pd.concat(stratified_samples)\n",
    "  \n",
    "  return stratified_sample"
   ]
  },
  {
   "cell_type": "code",
   "execution_count": 0,
   "metadata": {
    "colab": {},
    "colab_type": "code",
    "id": "hCOC4PAp2lKR"
   },
   "outputs": [],
   "source": [
    "strafied_sample_alldays = [get_stratified_sample(dataset[[col]]) for col in dataset.columns]"
   ]
  },
  {
   "cell_type": "code",
   "execution_count": 0,
   "metadata": {
    "colab": {},
    "colab_type": "code",
    "id": "fYWsPeFrFYMC"
   },
   "outputs": [],
   "source": [
    "for df in strafied_sample_alldays:\n",
    "  c = 1\n",
    "  if c == 1: pass\n",
    "  else: df.iloc[:,[1,2,0,3]].to_csv(\"output/daily_stratified_sample/stratified_sample_day{}.csv\".format(c), index=False, header=False)\n",
    "  c += 1"
   ]
  },
  {
   "cell_type": "code",
   "execution_count": 0,
   "metadata": {
    "colab": {},
    "colab_type": "code",
    "id": "L4aiwymFIk_2"
   },
   "outputs": [],
   "source": []
  }
 ],
 "metadata": {
  "colab": {
   "name": "stratified_sample.ipynb",
   "provenance": [],
   "version": "0.3.2"
  },
  "kernelspec": {
   "display_name": "Python 3 (sisenv)",
   "language": "python",
   "name": "sisenv"
  },
  "language_info": {
   "codemirror_mode": {
    "name": "ipython",
    "version": 3
   },
   "file_extension": ".py",
   "mimetype": "text/x-python",
   "name": "python",
   "nbconvert_exporter": "python",
   "pygments_lexer": "ipython3",
   "version": "3.7.2"
  }
 },
 "nbformat": 4,
 "nbformat_minor": 1
}
