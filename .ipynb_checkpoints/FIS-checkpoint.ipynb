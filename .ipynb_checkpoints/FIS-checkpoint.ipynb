{
 "cells": [
  {
   "cell_type": "code",
   "execution_count": 1,
   "metadata": {
    "colab": {
     "base_uri": "https://localhost:8080/",
     "height": 368
    },
    "colab_type": "code",
    "executionInfo": {
     "elapsed": 499,
     "status": "error",
     "timestamp": 1553714879572,
     "user": {
      "displayName": "Claudio Paul Ortega Ariza",
      "photoUrl": "",
      "userId": "09403825919811439227"
     },
     "user_tz": 300
    },
    "id": "PHeY3vEBn0no",
    "outputId": "b3d734a6-0ca4-455f-a9e2-dc7a541e56c5"
   },
   "outputs": [],
   "source": [
    "# Imports\n",
    "import skfuzzy as fuzz\n",
    "import pandas as pd\n",
    "import numpy as np\n",
    "import matplotlib.pyplot as plt\n",
    "from mpl_toolkits.mplot3d import Axes3D\n",
    "from skfuzzy import control as ctrl"
   ]
  },
  {
   "cell_type": "code",
   "execution_count": 2,
   "metadata": {
    "colab": {},
    "colab_type": "code",
    "id": "F0K7PDuRn0ns"
   },
   "outputs": [],
   "source": [
    "%matplotlib notebook"
   ]
  },
  {
   "cell_type": "code",
   "execution_count": 3,
   "metadata": {
    "colab": {},
    "colab_type": "code",
    "id": "qnriAPfdn0nu"
   },
   "outputs": [],
   "source": [
    "# Define Variables Range\n",
    "humidity = ctrl.Antecedent(np.linspace(0,100, num=100), 'humidity')\n",
    "temperature = ctrl.Antecedent(np.linspace(14,30, num=100), 'temperature')\n",
    "score = ctrl.Consequent(np.linspace(0,100, num=100), 'score')"
   ]
  },
  {
   "cell_type": "code",
   "execution_count": 4,
   "metadata": {
    "colab": {},
    "colab_type": "code",
    "id": "BSYAJZKYn0nw"
   },
   "outputs": [],
   "source": [
    "# Define Variables Terms\n",
    "names = ['low','moderate','high']\n",
    "humidity.automf(names=names)\n",
    "temperature.automf(names=names)\n",
    "score.automf(names=names)"
   ]
  },
  {
   "cell_type": "code",
   "execution_count": 5,
   "metadata": {
    "colab": {},
    "colab_type": "code",
    "id": "4jHmp3Jmn0nx"
   },
   "outputs": [],
   "source": [
    "#Define Varibles Fuzzy Sets\n",
    "\n",
    "#Humidity \n",
    "humidity['low'] = fuzz.trimf(humidity.universe, [-39.7, 0.265, 40])\n",
    "humidity['moderate'] = fuzz.trimf(humidity.universe, [0, 50, 100])\n",
    "humidity['high'] = fuzz.trimf(humidity.universe, [59.9206349206349, 99.7, 140])\n",
    "\n",
    "#Temperature\n",
    "temperature['low'] = fuzz.trimf(temperature.universe,[7.64, 14, 20.1])\n",
    "temperature['moderate'] = fuzz.trimf(temperature.universe,[18, 22, 26])\n",
    "temperature['high'] = fuzz.trimf(temperature.universe,[23.968253968254, 30, 36.4])\n",
    "                              \n",
    "#Score\n",
    "score['low'] = fuzz.trimf(score.universe,[-40, 0, 39.8148148148148])\n",
    "score['moderate'] = fuzz.trimf(score.universe,[20, 50, 80.026455026455])\n",
    "score['high'] = fuzz.trimf(score.universe,[60, 100, 140])"
   ]
  },
  {
   "cell_type": "code",
   "execution_count": 6,
   "metadata": {
    "colab": {},
    "colab_type": "code",
    "id": "IRphsuUmn0nz"
   },
   "outputs": [],
   "source": [
    "#Define Fuzzy Rules\n",
    "rule1 = ctrl.Rule(humidity['low'] & temperature['low'], score['low'])\n",
    "rule2 = ctrl.Rule(humidity['low'] & temperature['moderate'], score['low'])\n",
    "rule3 = ctrl.Rule(humidity['low'] & temperature['high'], score['low'])\n",
    "rule4 = ctrl.Rule(humidity['moderate'] & temperature['low'], score['high'])\n",
    "rule5 = ctrl.Rule(humidity['moderate'] & temperature['moderate'], score['moderate'])\n",
    "rule6 = ctrl.Rule(humidity['moderate'] & temperature['high'], score['moderate'])\n",
    "rule7 = ctrl.Rule(humidity['high'] & temperature['low'], score['high'])\n",
    "rule8 = ctrl.Rule(humidity['high'] & temperature['moderate'], score['high'])\n",
    "rule9 = ctrl.Rule(humidity['high'] & temperature['high'], score['moderate'])"
   ]
  },
  {
   "cell_type": "code",
   "execution_count": 7,
   "metadata": {
    "colab": {},
    "colab_type": "code",
    "id": "3djLf7Ejn0n1"
   },
   "outputs": [],
   "source": [
    "#Create Control System\n",
    "score_ctrl = ctrl.ControlSystem(rules=[rule1, rule2, rule3, rule4, rule5, rule6, rule7, rule8, rule9])\n",
    "score_simulation = ctrl.ControlSystemSimulation(score_ctrl)"
   ]
  },
  {
   "cell_type": "code",
   "execution_count": 8,
   "metadata": {
    "colab": {},
    "colab_type": "code",
    "id": "WunjCztfn0n3"
   },
   "outputs": [],
   "source": [
    "def generate_surface(sim, size, plot=False):\n",
    "    # We can simulate at higher resolution with full accuracy\n",
    "    x, y = np.meshgrid(np.linspace(0, 100, size), np.linspace(14, 30, size))\n",
    "    z = np.zeros_like(x)\n",
    "    \n",
    "    # Loop through the system to collect the control surface\n",
    "    for i in range(size):\n",
    "        for j in range(size):\n",
    "            sim.input['humidity'] = x[i, j]\n",
    "            sim.input['temperature'] = y[i, j]\n",
    "            sim.compute()\n",
    "            z[i, j] = sim.output['score']\n",
    "    \n",
    "    if plot:\n",
    "        # Plot the result in pretty 3D with alpha blending\n",
    "        fig = plt.figure(figsize=(8, 8))\n",
    "        ax = fig.add_subplot(111, projection='3d')\n",
    "\n",
    "        surf = ax.plot_surface(x, y, z, rstride=1, cstride=1, cmap='viridis',\n",
    "                               linewidth=0.4, antialiased=True)\n",
    "\n",
    "        ax.view_init(30, 200)\n",
    "    \n",
    "    return x, y, z"
   ]
  },
  {
   "cell_type": "code",
   "execution_count": 9,
   "metadata": {
    "colab": {},
    "colab_type": "code",
    "id": "6oLrngYUn0n6",
    "scrolled": false
   },
   "outputs": [],
   "source": [
    "#x, y, z_sim = generate_surface(score_simulation, 15, plot=True)"
   ]
  },
  {
   "cell_type": "code",
   "execution_count": 10,
   "metadata": {
    "colab": {},
    "colab_type": "code",
    "id": "sazUR2DAn0n7"
   },
   "outputs": [],
   "source": [
    "# Load sensor data\n",
    "temp_data = pd.read_csv('input/temperature.csv')\n",
    "hum_data = pd.read_csv('input/humidity.csv')\n",
    "\n",
    "# Create empty score variable\n",
    "score_sim = pd.DataFrame(columns=hum_data.columns)"
   ]
  },
  {
   "cell_type": "code",
   "execution_count": 11,
   "metadata": {},
   "outputs": [],
   "source": [
    "sample = pd.read_csv('input/sample.csv')\n",
    "\n",
    "hum_data['Monday'] = sample['z']"
   ]
  },
  {
   "cell_type": "code",
   "execution_count": 12,
   "metadata": {
    "colab": {},
    "colab_type": "code",
    "id": "45Rq0myGn0n9"
   },
   "outputs": [],
   "source": [
    "# Generate scores for each day\n",
    "for col in hum_data.columns:\n",
    "    score_simulation.input['humidity'] = hum_data[col].values\n",
    "    score_simulation.input['temperature'] = temp_data[col].values\n",
    "    score_simulation.compute()\n",
    "    score_sim.loc[:,col] = score_simulation.output['score']"
   ]
  },
  {
   "cell_type": "code",
   "execution_count": 32,
   "metadata": {},
   "outputs": [],
   "source": [
    "df = pd.DataFrame(columns=[\"Humidity\",\"Temperature\",\"Score\"])"
   ]
  },
  {
   "cell_type": "code",
   "execution_count": 33,
   "metadata": {},
   "outputs": [],
   "source": [
    "for col in hum_data.columns:\n",
    "    temporal_df = pd.DataFrame([hum_data[col], temp_data[col], score_sim[col]]).T\n",
    "    temporal_df.columns = [\"Humidity\",\"Temperature\",\"Score\"]\n",
    "    df = df.append(temporal_df, ignore_index=True, sort=False)"
   ]
  },
  {
   "cell_type": "code",
   "execution_count": 37,
   "metadata": {},
   "outputs": [],
   "source": [
    "df.to_csv('matlab_files/ANFIS/data_for_anfis.csv')"
   ]
  },
  {
   "cell_type": "code",
   "execution_count": null,
   "metadata": {
    "colab": {},
    "colab_type": "code",
    "id": "zF003bbJn0n_"
   },
   "outputs": [],
   "source": [
    "# Save data for dashboard\n",
    "temp_dash = pd.DataFrame(temp_data.values.reshape(4,16,7).mean(axis=1), index=['Cuadrante 3','Cuadrante 2','Cuadrante 4','Cuadrante 1'], columns=hum_data.columns)\n",
    "temp_dash = temp_dash.sort_index()\n",
    "temp_dash.to_csv('temp_cuadrantes_x_dia.csv')\n"
   ]
  },
  {
   "cell_type": "code",
   "execution_count": null,
   "metadata": {
    "colab": {},
    "colab_type": "code",
    "id": "zF003bbJn0n_"
   },
   "outputs": [],
   "source": [
    "score_dash = pd.DataFrame(score_sim.values.reshape(4,16,7).mean(axis=1), index=['Cuadrante 3','Cuadrante 2','Cuadrante 4','Cuadrante 1'], columns=hum_data.columns)\n"
   ]
  },
  {
   "cell_type": "code",
   "execution_count": null,
   "metadata": {},
   "outputs": [],
   "source": [
    "score_dash= score_dash.sort_index()"
   ]
  },
  {
   "cell_type": "code",
   "execution_count": null,
   "metadata": {
    "colab": {},
    "colab_type": "code",
    "id": "zF003bbJn0n_"
   },
   "outputs": [],
   "source": [
    "score_dash.to_csv('score_cuadrantes_x_dia.csv')"
   ]
  },
  {
   "cell_type": "code",
   "execution_count": null,
   "metadata": {},
   "outputs": [],
   "source": []
  }
 ],
 "metadata": {
  "colab": {
   "name": "FIS.ipynb",
   "provenance": [],
   "version": "0.3.2"
  },
  "kernelspec": {
   "display_name": "Python 3",
   "language": "python",
   "name": "python3"
  },
  "language_info": {
   "codemirror_mode": {
    "name": "ipython",
    "version": 3
   },
   "file_extension": ".py",
   "mimetype": "text/x-python",
   "name": "python",
   "nbconvert_exporter": "python",
   "pygments_lexer": "ipython3",
   "version": "3.7.1"
  }
 },
 "nbformat": 4,
 "nbformat_minor": 1
}
