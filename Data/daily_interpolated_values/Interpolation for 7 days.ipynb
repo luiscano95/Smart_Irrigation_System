{
 "cells": [
  {
   "cell_type": "code",
   "execution_count": 57,
   "metadata": {
    "collapsed": true
   },
   "outputs": [],
   "source": [
    "%matplotlib inline"
   ]
  },
  {
   "cell_type": "code",
   "execution_count": 58,
   "metadata": {
    "collapsed": true
   },
   "outputs": [],
   "source": [
    "import pandas as pd\n",
    "import numpy as np\n",
    "import matplotlib.pyplot as plt\n",
    "from scipy.interpolate import Rbf"
   ]
  },
  {
   "cell_type": "code",
   "execution_count": 59,
   "metadata": {},
   "outputs": [],
   "source": [
    "sample = pd.read_csv('sample.csv')\n",
    "sample_array = sample.values #array of sample values\n",
    "xi = sample_array[:,0] #X position for sample\n",
    "yi = sample_array[:,1] #Y position for sample"
   ]
  },
  {
   "cell_type": "code",
   "execution_count": 60,
   "metadata": {},
   "outputs": [],
   "source": [
    "day_humidity_mean = np.array([])\n",
    "for n_day in range(1,8):\n",
    "    stratified_sample = pd.read_csv('stratified_sample_day{}.csv'.format(n_day), header=None) #Import stratified sample data (n=18)\n",
    "    stratified_sample_array = np.abs(stratified_sample.values) #array of stratified sample values\n",
    "    \n",
    "    x = stratified_sample_array[:,0] #X position for stratified sample\n",
    "    y = stratified_sample_array[:,1] #Y position for stratified sample\n",
    "    z = stratified_sample_array[:,2] #Soil moisture values for stratified sample\n",
    "    \n",
    "    rbfi = Rbf(x, y, z, function='gaussian', epsilon=1.934807) #rbf interpolator instance with best epsilon\n",
    "    zi = rbfi(xi, yi) #array of interpolated values using the RBF\n",
    "    datos = np.zeros((64,3))\n",
    "    datos[:,0] = xi\n",
    "    datos[:,1] = yi\n",
    "    datos[:,2] = zi\n",
    "    pd.DataFrame(datos).to_csv('interpolated_values_day{}'.format(n_day), header=False, index=False)\n",
    "    day_humidity_mean = np.append(day_humidity_mean, np.mean(zi))"
   ]
  },
  {
   "cell_type": "code",
   "execution_count": 61,
   "metadata": {},
   "outputs": [
    {
     "data": {
      "text/plain": [
       "array([ 51.96969932,  51.06519148,  52.3057041 ,  55.08744146,\n",
       "        55.96666945,  52.6905073 ,  49.89948998])"
      ]
     },
     "execution_count": 61,
     "metadata": {},
     "output_type": "execute_result"
    }
   ],
   "source": [
    "day_humidity_mean"
   ]
  },
  {
   "cell_type": "code",
   "execution_count": null,
   "metadata": {
    "collapsed": true
   },
   "outputs": [],
   "source": []
  }
 ],
 "metadata": {
  "kernelspec": {
   "display_name": "Python 3",
   "language": "python",
   "name": "python3"
  },
  "language_info": {
   "codemirror_mode": {
    "name": "ipython",
    "version": 3
   },
   "file_extension": ".py",
   "mimetype": "text/x-python",
   "name": "python",
   "nbconvert_exporter": "python",
   "pygments_lexer": "ipython3",
   "version": "3.5.2"
  }
 },
 "nbformat": 4,
 "nbformat_minor": 2
}
